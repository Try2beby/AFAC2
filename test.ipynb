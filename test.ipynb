{
 "cells": [
  {
   "cell_type": "code",
   "execution_count": 6,
   "metadata": {},
   "outputs": [],
   "source": [
    "import json\n",
    "import os\n",
    "import concurrent.futures\n",
    "from langchain_community.chat_models import ChatZhipuAI\n",
    "from langchain.prompts import PromptTemplate\n",
    "from tqdm import tqdm\n",
    "\n",
    "# 定义文件名和路径\n",
    "file_name = dict(dev=\"dev.json\", test=\"test.json\", train=\"train.json\")\n",
    "\n",
    "data_path = \"./round1_training_data/\"\n",
    "result_path = \"./result/\"\n",
    "\n",
    "# 读取数据\n",
    "data = dict()\n",
    "for key in file_name:\n",
    "    with open(data_path + file_name[key], \"r\") as f:\n",
    "        data[key] = json.load(f)\n",
    "\n",
    "# 初始化ChatZhipuAI\n",
    "llm = ChatZhipuAI(\n",
    "    temperature=0,\n",
    "    zhipuai_api_key=os.getenv(\"ZHIPUAI_API_KEY\"),\n",
    "    model_name=\"GLM-4-0520\",\n",
    "    # model_name=\"GLM-4-Flash\",\n",
    ")\n",
    "\n",
    "# 定义提示模板\n",
    "prompt_template = \"\"\"使用以下上下文内容来回答后面的问题。如果你不知道答案，就回答你不知道，不要试图编造答案，也不要加入多余的信息。\n",
    "\n",
    "{context}\n",
    "\n",
    "问题：{question}\n",
    "用中文回答：\n",
    "\"\"\"\n",
    "PROMPT = PromptTemplate(\n",
    "    template=prompt_template, input_variables=[\"context\", \"question\"]\n",
    ")\n",
    "\n",
    "context_template = \"\"\"\n",
    "产品名：{product_name}\n",
    "条款：{clause}\n",
    "\"\"\"\n",
    "\n",
    "\n",
    "# 定义获取查询上下文的函数\n",
    "def get_query_context(split=\"train\", index=0):\n",
    "    question = data[split][index][\"问题\"]\n",
    "    context = context_template.format(\n",
    "        product_name=data[split][index][\"产品名\"], clause=data[split][index][\"条款\"]\n",
    "    )\n",
    "    return dict(question=question, context=context)\n",
    "\n",
    "\n",
    "# 定义并行处理函数\n",
    "def process_query(index, split=\"train\"):\n",
    "    query_context = get_query_context(split, index)\n",
    "    response = llm.invoke(PROMPT.format(**query_context)).content\n",
    "    return index, response\n",
    "\n",
    "\n",
    "# 并行调用的主函数\n",
    "def parallel_process_queries(\n",
    "    split=\"train\", num_queries=5, max_workers=5, save_interval=20\n",
    "):\n",
    "    results_dict = {}\n",
    "    count = 0\n",
    "\n",
    "    with concurrent.futures.ThreadPoolExecutor(max_workers=max_workers) as executor:\n",
    "        futures = [executor.submit(process_query, i, split) for i in range(num_queries)]\n",
    "        for future in tqdm(concurrent.futures.as_completed(futures), total=num_queries):\n",
    "            index, result = future.result()\n",
    "            results_dict[index] = result\n",
    "            count += 1\n",
    "\n",
    "            # 将结果写回到原数据字典中\n",
    "            data[split][index][\"回答\"] = result\n",
    "\n",
    "            # 每处理完指定数量的查询后保存一次数据\n",
    "            if count % save_interval == 0:\n",
    "                with open(result_path + file_name[split], \"w\") as f:\n",
    "                    json.dump(data[split], f, ensure_ascii=False, indent=4)\n",
    "\n",
    "    # 最后再保存一次，确保所有数据都被保存\n",
    "    with open(result_path + file_name[split], \"w\") as f:\n",
    "        json.dump(data[split], f, ensure_ascii=False, indent=4)\n",
    "\n",
    "    return results_dict"
   ]
  },
  {
   "cell_type": "code",
   "execution_count": 10,
   "metadata": {},
   "outputs": [
    {
     "name": "stderr",
     "output_type": "stream",
     "text": [
      "  0%|          | 0/1000 [00:00<?, ?it/s]"
     ]
    },
    {
     "name": "stderr",
     "output_type": "stream",
     "text": [
      "100%|██████████| 1000/1000 [03:48<00:00,  4.39it/s]\n"
     ]
    }
   ],
   "source": [
    "split = \"test\"\n",
    "num_queries = 1000  # 指定并行处理的查询数量\n",
    "max_workers = 10  # 指定并行数\n",
    "results = parallel_process_queries(split, num_queries, max_workers)\n",
    "\n",
    "\n",
    "# test = \"使用以下上下文内容来回答后面的问题。如果你不知道答案，就回答你不知道，不要试图编造答案，也不要加入多余的信息。\\n\\n\\n产品名：太享E保百万医疗险\\n条款：合同构成 本合同是您与我们约定保险权利义务关系的协议，包括本保险条款、保险单及其他保险凭证、投保单及其他投保文件、合法有效的声明、批注、批单及其他您与我们共同认可的书面协议。\\n\\n\\n问题：在太享E保百万医疗险合同中，保险条款的作用是什么？\\n用中文回答：\\n\"\n",
    "# print(llm.invoke(test).content)"
   ]
  },
  {
   "cell_type": "code",
   "execution_count": 19,
   "metadata": {},
   "outputs": [],
   "source": [
    "with open(\n",
    "    result_path + file_name[\"test\"], \"r\"\n",
    ") as file:  # 假设 file_name 是正确的文件名字符串\n",
    "    result = json.load(file)\n",
    "\n",
    "formatted_result = [\n",
    "    {\n",
    "        \"id\": item[\"ID\"],\n",
    "        \"query\": item[\"问题\"],\n",
    "        \"answer\": item[\"回答\"],\n",
    "    }\n",
    "    for item in result\n",
    "]\n",
    "# save, each line is a json object\n",
    "with open(result_path + \"非常团队_test.json\", \"w\") as f:\n",
    "    for item in formatted_result:\n",
    "        f.write(json.dumps(item, ensure_ascii=False) + \"\\n\")"
   ]
  }
 ],
 "metadata": {
  "kernelspec": {
   "display_name": "base",
   "language": "python",
   "name": "python3"
  },
  "language_info": {
   "codemirror_mode": {
    "name": "ipython",
    "version": 3
   },
   "file_extension": ".py",
   "mimetype": "text/x-python",
   "name": "python",
   "nbconvert_exporter": "python",
   "pygments_lexer": "ipython3",
   "version": "3.11.5"
  }
 },
 "nbformat": 4,
 "nbformat_minor": 2
}
