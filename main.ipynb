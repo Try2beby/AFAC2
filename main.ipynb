{
 "cells": [
  {
   "cell_type": "code",
   "execution_count": 1,
   "metadata": {},
   "outputs": [],
   "source": [
    "from modules.data import Data\n",
    "from modules.rag import resolve_context\n",
    "from modules.utils import resumable, save_progress\n",
    "\n",
    "from tqdm import tqdm"
   ]
  },
  {
   "cell_type": "code",
   "execution_count": 2,
   "metadata": {},
   "outputs": [
    {
     "name": "stderr",
     "output_type": "stream",
     "text": [
      "\u001b[32m2024-07-16 17:26:50.133\u001b[0m | \u001b[1mINFO    \u001b[0m | \u001b[36mmodules.data\u001b[0m:\u001b[36mload_data\u001b[0m:\u001b[36m18\u001b[0m - \u001b[1mload dev data, len: 1000\u001b[0m\n",
      "\u001b[32m2024-07-16 17:26:50.140\u001b[0m | \u001b[1mINFO    \u001b[0m | \u001b[36mmodules.data\u001b[0m:\u001b[36mload_data\u001b[0m:\u001b[36m18\u001b[0m - \u001b[1mload test data, len: 1000\u001b[0m\n",
      "\u001b[32m2024-07-16 17:26:50.176\u001b[0m | \u001b[1mINFO    \u001b[0m | \u001b[36mmodules.data\u001b[0m:\u001b[36mload_data\u001b[0m:\u001b[36m18\u001b[0m - \u001b[1mload train data, len: 5000\u001b[0m\n"
     ]
    }
   ],
   "source": [
    "data = Data()\n",
    "data_test = data.get_split(\"test\")"
   ]
  },
  {
   "cell_type": "code",
   "execution_count": 3,
   "metadata": {},
   "outputs": [],
   "source": [
    "context_template = \"\"\"\n",
    "产品名：{product_name}\n",
    "条款：{clause}\n",
    "\"\"\""
   ]
  },
  {
   "cell_type": "code",
   "execution_count": null,
   "metadata": {},
   "outputs": [],
   "source": [
    "@resumable(progress_file=\"./cache/progress_test.json\")\n",
    "def process_data_with_rag(data, context_template, start_idx=0, progress_file=None):\n",
    "    for idx, item in tqdm(\n",
    "        enumerate(data[start_idx:], start=start_idx), initial=start_idx, total=len(data)\n",
    "    ):\n",
    "        product_name, raw_context, query = item[\"产品名\"], item[\"条款\"], item[\"问题\"]\n",
    "        if len(raw_context) > 500:\n",
    "            retrieved_nodes = resolve_context(\n",
    "                idx=idx, raw_context=raw_context, query=query\n",
    "            )\n",
    "            context = \"\"\n",
    "            for node_with_score in retrieved_nodes:\n",
    "                context += node_with_score.node.text\n",
    "        else:\n",
    "            context = raw_context\n",
    "        data[idx][\"context\"] = context_template.format(\n",
    "            product_name=product_name, clause=context\n",
    "        )\n",
    "\n",
    "        # Save progress after each item is processed\n",
    "        if progress_file:\n",
    "            save_progress(progress_file, data, ensure_ascii=False, indent=4)\n",
    "\n",
    "    return data\n",
    "\n",
    "\n",
    "# 使用装饰器的函数\n",
    "data_test_new = process_data_with_rag(data=data_test, context_template=context_template)"
   ]
  }
 ],
 "metadata": {
  "kernelspec": {
   "display_name": "myenv",
   "language": "python",
   "name": "python3"
  },
  "language_info": {
   "codemirror_mode": {
    "name": "ipython",
    "version": 3
   },
   "file_extension": ".py",
   "mimetype": "text/x-python",
   "name": "python",
   "nbconvert_exporter": "python",
   "pygments_lexer": "ipython3",
   "version": "3.11.5"
  }
 },
 "nbformat": 4,
 "nbformat_minor": 2
}
