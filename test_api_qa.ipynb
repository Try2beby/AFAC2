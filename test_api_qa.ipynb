{
 "cells": [
  {
   "cell_type": "code",
   "execution_count": 35,
   "metadata": {},
   "outputs": [],
   "source": [
    "import json\n",
    "import os\n",
    "\n",
    "import matplotlib.pyplot as plt\n",
    "%matplotlib inline\n",
    "from matplotlib_inline import backend_inline\n",
    "backend_inline.set_matplotlib_formats(\"svg\")"
   ]
  },
  {
   "cell_type": "code",
   "execution_count": 36,
   "metadata": {},
   "outputs": [
    {
     "data": {
      "text/plain": [
       "[{'ID': '0',\n",
       "  '产品名': '优医保·高端门诊住院医疗',\n",
       "  '条款': '【中国境内】 指除香港特别行政区、澳门特别行政区以及台湾地区之外的中华人民共和国领土。',\n",
       "  '问题': '【中国境内】在优医保·高端门诊住院医疗保险产品中指的是哪些地区？',\n",
       "  '答案': '在优医保·高端门诊住院医疗保险产品中，【中国境内】指的是除香港特别行政区、澳门特别行政区以及台湾地区之外的中华人民共和国领土。'},\n",
       " {'ID': '1',\n",
       "  '产品名': '同佑e生(臻享版)终身重疾险',\n",
       "  '条款': '中度再生障碍性贫血 指因骨髓造血功能慢性持续性衰竭导致的贫血、中性粒细胞减少及血小板减少。须满足下列至少一项条件,但未达到本合同所指重大疾病“重型再生障碍性贫血”的给付标准：1.骨髓刺激疗法至少一个月；2.免疫抑制剂治疗至少一个月。',\n",
       "  '问题': '中度再生障碍性贫血会导致哪些症状？',\n",
       "  '答案': '中度再生障碍性贫血会导致贫血、中性粒细胞减少及血小板减少。'},\n",
       " {'ID': '2',\n",
       "  '产品名': '众民保·百万医疗（免健告）',\n",
       "  '条款': '认可的互联网药店 经保险人审核认可，取得互联网药品信息服务资格证书，为被保险人提供购药或者配送服务的药店，具体名单在保险人官方网站或销售平台公示。',\n",
       "  '问题': '互联网药店需要取得哪种证书才能被保险公司认可？',\n",
       "  '答案': '互联网药店需要取得互联网药品信息服务资格证书才能被保险公司认可。'}]"
      ]
     },
     "execution_count": 36,
     "metadata": {},
     "output_type": "execute_result"
    }
   ],
   "source": [
    "file_name = dict(dev=\"dev.json\", test=\"test.json\", train=\"train.json\")\n",
    "\n",
    "data_path = \"./round1_training_data/\"\n",
    "\n",
    "# read data\n",
    "data = dict()\n",
    "for key in file_name:\n",
    "    with open(data_path + file_name[key], \"r\") as f:\n",
    "        data[key] = json.load(f)\n",
    "data[\"train\"][:3]"
   ]
  },
  {
   "cell_type": "code",
   "execution_count": 37,
   "metadata": {},
   "outputs": [],
   "source": [
    "from langchain_community.chat_models import ChatZhipuAI\n",
    "from langchain.prompts import PromptTemplate\n",
    "from langchain.chains.question_answering import load_qa_chain"
   ]
  },
  {
   "cell_type": "code",
   "execution_count": 38,
   "metadata": {},
   "outputs": [],
   "source": [
    "llm = ChatZhipuAI(\n",
    "    temperature=0,\n",
    "    zhipuai_api_key=os.getenv(\"ZHIPUAI_API_KEY\"),\n",
    "    model_name=\"GLM-4-0520\",\n",
    "    # model_name=\"GLM-4-Flash\",\n",
    ")\n",
    "\n",
    "prompt_template = \"\"\"使用以下上下文内容来回答后面的问题。如果你不知道答案，就回答你不知道，不要试图编造答案，也不要加入多余的信息。\n",
    "\n",
    "{context}\n",
    "\n",
    "问题：{question}\n",
    "用中文回答：\n",
    "\"\"\"\n",
    "PROMPT = PromptTemplate(\n",
    "    template=prompt_template, input_variables=[\"context\", \"question\"]\n",
    ")\n",
    "\n",
    "chain = load_qa_chain(llm, chain_type=\"stuff\", prompt=PROMPT)"
   ]
  },
  {
   "cell_type": "code",
   "execution_count": 39,
   "metadata": {},
   "outputs": [],
   "source": [
    "context_template = \"\"\"\n",
    "产品名：{product_name}\n",
    "条款：{clause}\n",
    "\"\"\"\n",
    "\n",
    "\n",
    "def get_query_context(split=\"train\", index=0):\n",
    "\n",
    "    question = data[split][index][\"问题\"]\n",
    "    context = context_template.format(\n",
    "        product_name=data[split][index][\"产品名\"], clause=data[split][index][\"条款\"]\n",
    "    )\n",
    "    return dict(question=question, context=context)"
   ]
  },
  {
   "cell_type": "code",
   "execution_count": 40,
   "metadata": {},
   "outputs": [
    {
     "data": {
      "text/plain": [
       "'保险条款在太享E保百万医疗险合同中的作用是约定保险权利义务关系，具体明确了保险合同双方的权利和义务，是构成保险合同的重要组成部分。'"
      ]
     },
     "execution_count": 40,
     "metadata": {},
     "output_type": "execute_result"
    }
   ],
   "source": [
    "llm.invoke(PROMPT.format(**get_query_context(\"test\", 2))).content"
   ]
  },
  {
   "cell_type": "code",
   "execution_count": 41,
   "metadata": {},
   "outputs": [
    {
     "data": {
      "text/plain": [
       "'使用以下上下文内容来回答后面的问题。如果你不知道答案，就回答你不知道，不要试图编造答案，也不要加入多余的信息。\\n\\n\\n产品名：太享E保百万医疗险\\n条款：合同构成 本合同是您与我们约定保险权利义务关系的协议，包括本保险条款、保险单及其他保险凭证、投保单及其他投保文件、合法有效的声明、批注、批单及其他您与我们共同认可的书面协议。\\n\\n\\n问题：在太享E保百万医疗险合同中，保险条款的作用是什么？\\n用中文回答：\\n'"
      ]
     },
     "execution_count": 41,
     "metadata": {},
     "output_type": "execute_result"
    }
   ],
   "source": [
    "PROMPT.format(**get_query_context(\"test\", 2))"
   ]
  }
 ],
 "metadata": {
  "kernelspec": {
   "display_name": "base",
   "language": "python",
   "name": "python3"
  },
  "language_info": {
   "codemirror_mode": {
    "name": "ipython",
    "version": 3
   },
   "file_extension": ".py",
   "mimetype": "text/x-python",
   "name": "python",
   "nbconvert_exporter": "python",
   "pygments_lexer": "ipython3",
   "version": "3.10.14"
  }
 },
 "nbformat": 4,
 "nbformat_minor": 2
}
