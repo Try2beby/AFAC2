{
 "cells": [
  {
   "cell_type": "code",
   "execution_count": null,
   "metadata": {},
   "outputs": [],
   "source": [
    "%pip install accelerate einops vllm loguru"
   ]
  },
  {
   "cell_type": "code",
   "execution_count": null,
   "metadata": {},
   "outputs": [],
   "source": [
    "# from google.colab import drive\n",
    "\n",
    "# drive.mount(\"/content/drive\")\n",
    "\n",
    "# import os\n",
    "\n",
    "# os.chdir(\"/content/drive/MyDrive/code/AFAC2\")\n",
    "# os.environ[\"HF_HOME\"] = \"/content/drive/MyDrive/cache\""
   ]
  },
  {
   "cell_type": "code",
   "execution_count": null,
   "metadata": {},
   "outputs": [],
   "source": [
    "from modules.data import Data\n",
    "\n",
    "# from modules.rag import resolve_context\n",
    "from modules.llm import load_model, get_response, MODEL\n",
    "\n",
    "from tqdm import tqdm\n",
    "import json\n",
    "\n",
    "model, tokenizer = load_model(MODEL.internlm2_5_7b.value)"
   ]
  },
  {
   "cell_type": "code",
   "execution_count": null,
   "metadata": {},
   "outputs": [],
   "source": [
    "# data = Data()\n",
    "# data_test = data.get_split(\"test\")\n",
    "\n",
    "with open(\"./cache/progress_test.json\", \"r\") as f:\n",
    "    data = json.load(f)"
   ]
  },
  {
   "cell_type": "code",
   "execution_count": null,
   "metadata": {},
   "outputs": [],
   "source": [
    "def get_all_response(data, start_idx=0, progress_file: str = \"\"):\n",
    "    for idx, item in tqdm(\n",
    "        enumerate(data[start_idx:], start=start_idx), initial=start_idx, total=len(data)\n",
    "    ):\n",
    "        context, question = item[\"context\"], item[\"问题\"]\n",
    "        response = get_response(model, tokenizer, context, question)\n",
    "        item[\"answer\"] = response\n",
    "        data[idx] = item\n",
    "\n",
    "        with open(progress_file, \"w\") as f:\n",
    "            json.dump(data, f, ensure_ascii=False, indent=4)\n",
    "\n",
    "    return data\n",
    "\n",
    "\n",
    "get_all_response(data, progress_file=\"./cache/progress_response.json\")"
   ]
  }
 ],
 "metadata": {
  "kernelspec": {
   "display_name": "cv",
   "language": "python",
   "name": "python3"
  },
  "language_info": {
   "codemirror_mode": {
    "name": "ipython",
    "version": 3
   },
   "file_extension": ".py",
   "mimetype": "text/x-python",
   "name": "python",
   "nbconvert_exporter": "python",
   "pygments_lexer": "ipython3",
   "version": "3.10.14"
  }
 },
 "nbformat": 4,
 "nbformat_minor": 2
}
